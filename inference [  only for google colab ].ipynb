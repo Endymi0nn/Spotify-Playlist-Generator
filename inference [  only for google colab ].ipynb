{
  "nbformat": 4,
  "nbformat_minor": 0,
  "metadata": {
    "colab": {
      "provenance": []
    },
    "kernelspec": {
      "name": "python3",
      "display_name": "Python 3"
    },
    "language_info": {
      "name": "python"
    }
  },
  "cells": [
    {
      "cell_type": "code",
      "source": [
        "#Run this code to install and load the required dependencies [ Estimated Time = 3-4 minutes ]\n",
        "\n",
        "!pip uninstall -qqy torch torchvision torchtext torchaudio fastai torchdata\n",
        "!pip install -qq torch==1.11.0 pytorch-lightning==1.7.7 aitextgen==0.6.0 transformers==4.21.3 torchdata==0.3.0\n",
        "\n",
        "import os\n",
        "import gdown"
      ],
      "metadata": {
        "id": "sGd3RT351WmH"
      },
      "execution_count": null,
      "outputs": []
    },
    {
      "cell_type": "code",
      "source": [
        "#Run this code now to download the model files from gdrive [ Estimated time = 30 seconds]\n",
        "\n",
        "folder_name = 'trained_model'\n",
        "if not os.path.exists(folder_name):\n",
        "    os.makedirs(folder_name)\n",
        "\n",
        "gdown.download('https://drive.google.com/uc?id=1-xYO1-wqYdMahDi1_YYb1dRgmRJVeclc', os.path.join(folder_name, 'pytorch_model.bin'))\n",
        "gdown.download('https://drive.google.com/uc?id=1-tTWb_L1qWwfRyDtKcJB-bWoh4SEzD2k', os.path.join(folder_name, 'config.json'))"
      ],
      "metadata": {
        "id": "nrxYCHEC3JIj"
      },
      "execution_count": null,
      "outputs": []
    },
    {
      "cell_type": "code",
      "source": [
        "#Run this code to load the model [ Estimated Time = 10 seconds ]\n",
        "\n",
        "from aitextgen import aitextgen\n",
        "ai=aitextgen(model_folder='trained_model')"
      ],
      "metadata": {
        "id": "ZRTRza8F0NV4"
      },
      "execution_count": null,
      "outputs": []
    },
    {
      "cell_type": "code",
      "source": [
        "#Run this code to use the AI! Thank you!\n",
        "\n",
        "input_prompt=[]\n",
        "\n",
        "num=int(input(\"Enter Number of Songs you would like to give (Suggestion : Less than 5): \"))\n",
        "print(\"\\n\")\n",
        "\n",
        "for i in range(num):\n",
        "  title=str(input(\"Song Title :\"))\n",
        "  artist=str(input(\"Artist Name : \"))\n",
        "  line=\"Track : \" + title + ' | ' + \" Artist : \" + artist\n",
        "  input_prompt.append(line)\n",
        "  print(\"\\n\")\n",
        "\n",
        "input_prompt='\\n'.join(input_prompt)\n",
        "\n",
        "print(\"Generating 3 playlists... Please wait ... \\n\\n\")\n",
        "\n",
        "output=ai.generate(n=3,\n",
        "            batch_size=5,\n",
        "            prompt=input_prompt,\n",
        "            max_length=150,\n",
        "            temperature=0.7,\n",
        "            top_p=0.9)"
      ],
      "metadata": {
        "id": "iE4cYsmN2K0W"
      },
      "execution_count": null,
      "outputs": []
    }
  ]
}