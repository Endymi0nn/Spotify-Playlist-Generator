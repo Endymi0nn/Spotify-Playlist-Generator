{
 "cells": [
  {
   "cell_type": "code",
   "execution_count": 1,
   "metadata": {},
   "outputs": [],
   "source": [
    "import pandas as pd"
   ]
  },
  {
   "cell_type": "code",
   "execution_count": 34,
   "metadata": {},
   "outputs": [
    {
     "name": "stdout",
     "output_type": "stream",
     "text": [
      "\n",
      "\n",
      "\n",
      "\n",
      "\n",
      "\n",
      "\n",
      "\n",
      "\n",
      "\n",
      "\n",
      "\n",
      "\n",
      "\n",
      "\n",
      "\n",
      "\n",
      "\n",
      "\n",
      "\n",
      "\n",
      "\n",
      "\n",
      "\n",
      "\n",
      "\n",
      "\n",
      "\n",
      "\n",
      "\n",
      "\n",
      "\n",
      "\n",
      "\n",
      "\n",
      "\n",
      "\n",
      "\n",
      "\n",
      "\n",
      "\n",
      "\n"
     ]
    }
   ],
   "source": [
    "with open('playlist_info.txt', 'w', encoding='utf-8') as textfile:\n",
    "\n",
    " paths=['data/alternative_music_data.csv','data/blues_music_data.csv','data/hiphop_music_data.csv',\n",
    "       'data/metal_music_data.csv','data/indie_alt_music_data.csv','data/pop_music_data.csv','data/rock_music_data.csv']\n",
    "\n",
    " for file in paths:\n",
    "\n",
    "    playlist_data=pd.read_csv(file)\n",
    "    unique_playlists=playlist_data['Playlist'].unique()\n",
    "\n",
    "    for playlist_name in unique_playlists:\n",
    "        tracks = playlist_data.loc[playlist_data['Playlist'] == playlist_name, 'Track Name'].tolist()\n",
    "        artists = playlist_data.loc[playlist_data['Playlist'] == playlist_name, 'Artist Name'].tolist()\n",
    "\n",
    "        playlist_info = []\n",
    "        for i, j in zip(tracks, artists):\n",
    "            popularity = playlist_data.loc[(playlist_data['Playlist'] == playlist_name) & (playlist_data['Track Name'] == i), 'Popularity'].values[0]\n",
    "            if popularity > 20:\n",
    "                playlist_info.append(\"Track : \" + str(i) + ' | ' +  \" Artist : \" + str(j))\n",
    "\n",
    "        playlist_info_text = '\\n'.join(playlist_info)\n",
    "        textfile.write(playlist_info_text + '\\n\\n')\n",
    "\n",
    "    print(\"\\n\\n\\n\\n\\n\")\n"
   ]
  },
  {
   "cell_type": "code",
   "execution_count": 7,
   "metadata": {},
   "outputs": [],
   "source": []
  },
  {
   "cell_type": "code",
   "execution_count": null,
   "metadata": {},
   "outputs": [],
   "source": []
  }
 ],
 "metadata": {
  "kernelspec": {
   "display_name": "NLP",
   "language": "python",
   "name": "python3"
  },
  "language_info": {
   "codemirror_mode": {
    "name": "ipython",
    "version": 3
   },
   "file_extension": ".py",
   "mimetype": "text/x-python",
   "name": "python",
   "nbconvert_exporter": "python",
   "pygments_lexer": "ipython3",
   "version": "3.9.0"
  },
  "orig_nbformat": 4
 },
 "nbformat": 4,
 "nbformat_minor": 2
}
